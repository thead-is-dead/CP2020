{
 "cells": [
  {
   "cell_type": "markdown",
   "metadata": {},
   "source": [
    "# Simple iteration for systems of linear equations"
   ]
  },
  {
   "cell_type": "markdown",
   "metadata": {},
   "source": [
    "First, generate a random diagonally dominant matrix, for testing."
   ]
  },
  {
   "cell_type": "code",
   "execution_count": 2,
   "metadata": {},
   "outputs": [],
   "source": [
    "import numpy as np\n",
    "rndm = np.random.RandomState(1234)\n",
    "\n",
    "n = 10\n",
    "A = rndm.uniform(size=(n, n)) + np.diagflat([15]*n)\n",
    "b = rndm.uniform(size=n)\n"
   ]
  },
  {
   "cell_type": "markdown",
   "metadata": {},
   "source": [
    "# I.  Jacobi iteration\n",
    "\n",
    "Given\n",
    "\n",
    "$$\n",
    "A x = b\n",
    "$$\n",
    "\n",
    "separate the diagonal part $D$,\n",
    "\n",
    "$$ A = D + (A - D) $$\n",
    "\n",
    "and write\n",
    "\n",
    "$$\n",
    "x = D^{-1} (D - A) x + D^{-1} b\\;.\n",
    "$$\n",
    "\n",
    "Then iterate\n",
    "\n",
    "$$\n",
    "x_{n + 1} = B x_{n} + c\\;,\n",
    "$$\n",
    "\n",
    "where \n",
    "\n",
    "$$\n",
    "B = D^{-1} (A - D) \\qquad \\text{and} \\qquad c = D^{-1} b\n",
    "$$\n"
   ]
  },
  {
   "cell_type": "markdown",
   "metadata": {},
   "source": [
    "Let's construct the matrix and the r.h.s. for the Jacobi iteration"
   ]
  },
  {
   "cell_type": "code",
   "execution_count": 3,
   "metadata": {},
   "outputs": [],
   "source": [
    "diag_1d = np.diag(A)\n",
    "\n",
    "B = -A.copy()\n",
    "np.fill_diagonal(B, 0)\n",
    "\n",
    "D = np.diag(diag_1d)\n",
    "invD = np.diag(1./diag_1d)\n",
    "BB = invD @ B \n",
    "c = invD @ b"
   ]
  },
  {
   "cell_type": "code",
   "execution_count": 4,
   "metadata": {},
   "outputs": [],
   "source": [
    "# sanity checks\n",
    "from numpy.testing import assert_allclose\n",
    "\n",
    "assert_allclose(-B + D, A)\n",
    "\n",
    "\n",
    "# xx is a \"ground truth\" solution, compute it using a direct method\n",
    "xx = np.linalg.solve(A, b)\n",
    "\n",
    "np.testing.assert_allclose(A@xx, b)\n",
    "np.testing.assert_allclose(D@xx, B@xx + b)\n",
    "np.testing.assert_allclose(xx, BB@xx + c)"
   ]
  },
  {
   "cell_type": "markdown",
   "metadata": {},
   "source": [
    "Check that $\\| B\\| \\leqslant 1$:"
   ]
  },
  {
   "cell_type": "code",
   "execution_count": 5,
   "metadata": {},
   "outputs": [
    {
     "data": {
      "text/plain": [
       "0.36436161983015336"
      ]
     },
     "execution_count": 5,
     "metadata": {},
     "output_type": "execute_result"
    }
   ],
   "source": [
    "np.linalg.norm(BB)"
   ]
  },
  {
   "cell_type": "markdown",
   "metadata": {},
   "source": [
    "### Do the Jacobi iteration"
   ]
  },
  {
   "cell_type": "code",
   "execution_count": 6,
   "metadata": {},
   "outputs": [],
   "source": [
    "n_iter = 50\n",
    "\n",
    "x0 = np.ones(n)\n",
    "x = x0\n",
    "for _ in range(n_iter):\n",
    "    x = BB @ x + c"
   ]
  },
  {
   "cell_type": "code",
   "execution_count": 7,
   "metadata": {
    "scrolled": true
   },
   "outputs": [
    {
     "data": {
      "text/plain": [
       "array([ 1.11022302e-16,  1.11022302e-16, -1.11022302e-16,  0.00000000e+00,\n",
       "        0.00000000e+00,  0.00000000e+00, -1.38777878e-17,  0.00000000e+00,\n",
       "       -4.16333634e-17,  1.11022302e-16])"
      ]
     },
     "execution_count": 7,
     "metadata": {},
     "output_type": "execute_result"
    }
   ],
   "source": [
    "# Check the result:\n",
    "\n",
    "A @ x - b"
   ]
  },
  {
   "cell_type": "markdown",
   "metadata": {},
   "source": [
    "### Task I.1\n",
    "\n",
    "Collect the proof-of-concept above into a single function implementing the Jacobi iteration. This function should receive the r.h.s. matrix $A$, the l.h.s. vector `b`, and the number of iterations to perform.\n",
    "\n",
    "\n",
    "The matrix $A$ in the illustration above is strongly diagonally dominant, by construction. \n",
    "What happens if the diagonal matrix elements of $A$ are made smaller? Check the convergence of the Jacobi iteration, and check the value of the norm of $B$.\n",
    "\n",
    "(20% of the total grade)\n"
   ]
  },
  {
   "cell_type": "code",
   "execution_count": 9,
   "metadata": {},
   "outputs": [
    {
     "name": "stdout",
     "output_type": "stream",
     "text": [
      "[ 6.93889390e-18  0.00000000e+00 -6.93889390e-18  0.00000000e+00\n",
      " -6.93889390e-18 -1.13841228e-18 -8.67361738e-19  0.00000000e+00\n",
      " -8.67361738e-19  2.08166817e-17] 0.36436161983015336\n",
      "[nan nan nan nan nan nan nan nan nan nan] 30.715327603064885\n"
     ]
    },
    {
     "name": "stderr",
     "output_type": "stream",
     "text": [
      "C:\\ProgramData\\Anaconda3\\lib\\site-packages\\ipykernel_launcher.py:32: RuntimeWarning: overflow encountered in double_scalars\n",
      "C:\\ProgramData\\Anaconda3\\lib\\site-packages\\ipykernel_launcher.py:29: RuntimeWarning: overflow encountered in matmul\n",
      "C:\\ProgramData\\Anaconda3\\lib\\site-packages\\ipykernel_launcher.py:29: RuntimeWarning: invalid value encountered in matmul\n"
     ]
    },
    {
     "data": {
      "text/plain": [
       "'Результат расходится, ||B|| >> 1'"
      ]
     },
     "execution_count": 9,
     "metadata": {},
     "output_type": "execute_result"
    },
    {
     "data": {
      "image/png": "[encoded data removed]",
      "text/plain": [
       "<Figure size 432x288 with 1 Axes>"
      ]
     },
     "metadata": {
      "needs_background": "light"
     },
     "output_type": "display_data"
    }
   ],
   "source": [
    "def Jacobi(mat, vec, n_iter = 1000):\n",
    "    A = mat.copy()\n",
    "    b = vec.copy()\n",
    "    \n",
    "    \"создаем D и D^(-1)\"\n",
    "    D = A.copy()\n",
    "    for i in range(A.shape[0]):\n",
    "        for j in range(A.shape[1]):\n",
    "            if i != j:\n",
    "                D[i][j] = 0\n",
    "    \n",
    "    invD = np.linalg.inv(D)\n",
    "    \n",
    "    \"создаем D - A\"\n",
    "    preB = -A.copy()\n",
    "    np.fill_diagonal(preB, 0)\n",
    "    \n",
    "    B = invD @ preB\n",
    "    c = invD @ b\n",
    "    \n",
    "    B_norm = np.linalg.norm(B)\n",
    "    \n",
    "    x0 = np.ones(b.size)\n",
    "    x = x0\n",
    "    y = np.zeros(n_iter)\n",
    "    q = np.ones(n_iter)\n",
    "    \n",
    "    for i in range (n_iter):\n",
    "        x = B @ x + c\n",
    "        y[i] = np.linalg.norm(x)\n",
    "        if i > 0:\n",
    "            q[i] = B_norm*q[i-1]\n",
    "        \n",
    "    return x, B_norm, y, q\n",
    "\n",
    "\"проверка результата\"\n",
    "x_ok = np.linalg.solve(A, b)\n",
    "x_my, B_norm, y, q = Jacobi(A, b)\n",
    "print(x_my - x_ok, B_norm)\n",
    "\n",
    "\"Иллюстрация сходимости. Построим график нормы вектора x от номера итерации. На том же графике изобразим член геометрической\"\n",
    "\"прогрессии со знаменателем ||B||\"\n",
    "import matplotlib.pyplot as plt\n",
    "\n",
    "x1 = np.arange(0, 20)\n",
    "y1 = np.zeros(x1.size)\n",
    "q1 = np.zeros(x1.size)\n",
    "\n",
    "for i in range(x1.size):\n",
    "    y1[i] = y[i]\n",
    "    q1[i] = q[i]\n",
    "\n",
    "fig, ax = plt.subplots()\n",
    "ax.stackplot(x1, y1, q1, labels = ['norm of x', 'element of geom. pr.'])\n",
    "ax.set_title('The convergence of Jacobi iteration')\n",
    "ax.legend(loc = 'upper right')\n",
    "ax.set_xlabel('$x$')\n",
    "ax.set_ylabel('$y$')\n",
    "\n",
    "plt.plot()\n",
    "\n",
    "\"Визуально подтвердим: метод сходится очень быстро (меньше, чем за 20 итераций), причем примерно\"\n",
    "\"с той же скоростью (что можно доказать точно), что и геом. прогрессия с q = ||B||\"\n",
    "\n",
    "\n",
    "\"Испортим A и с помощью этого посчитаем не диагонально доминантную матрицу\"\n",
    "A_bad = A - np.diagflat([15]*n)\n",
    "x_ok = np.linalg.solve(A_bad, b)\n",
    "x_my, B_norm, y, q = Jacobi(A_bad, b)\n",
    "print(x_my - x_ok, B_norm)\n",
    "\n",
    "\"Результат расходится, ||B|| >> 1\"\n",
    "\n",
    "\n"
   ]
  },
  {
   "cell_type": "markdown",
   "metadata": {},
   "source": [
    "# II. Seidel's iteration."
   ]
  },
  {
   "cell_type": "markdown",
   "metadata": {},
   "source": [
    "### Task II.1\n",
    "\n",
    "Implement the Seidel's iteration. \n",
    "\n",
    "Test it on a random matrix. Study the convergence of iterations, relate to the norm of the iteration matrix.\n",
    "\n",
    "(30% of the total grade)"
   ]
  },
  {
   "cell_type": "code",
   "execution_count": 20,
   "metadata": {
    "scrolled": true
   },
   "outputs": [
    {
     "name": "stdout",
     "output_type": "stream",
     "text": [
      "0.17038846684079478 [-0.01333028 -0.01165863  0.02527101  0.05206006  0.03204919] [0.00276488 0.00359767 0.0400433  0.06742527 0.04776439] 0.06848097900918686 0.09193289778759758\n"
     ]
    },
    {
     "data": {
      "text/plain": [
       "'алгос сходится куда-то непонятно куда'"
      ]
     },
     "execution_count": 20,
     "metadata": {},
     "output_type": "execute_result"
    },
    {
     "data": {
      "image/png": "[encoded data removed]",
      "text/plain": [
       "<Figure size 432x288 with 1 Axes>"
      ]
     },
     "metadata": {
      "needs_background": "light"
     },
     "output_type": "display_data"
    }
   ],
   "source": [
    "def Seidel(mat, vec, n_iter = 1000):\n",
    "    A = mat.copy()\n",
    "    b = vec.copy()\n",
    "    n = b.size\n",
    "    \n",
    "    'надо выделить нижнетреугольную (вместе с диагональю) и верхнетреугольную части A - L и U соответственно'\n",
    "    L = A.copy()\n",
    "    U = A.copy()\n",
    "    \n",
    "    for i in range(A.shape[0]):\n",
    "        for j in range(A.shape[1]):\n",
    "            if i >= j:\n",
    "                U[i][j] = 0\n",
    "            else:\n",
    "                L[i][j] = 0\n",
    "                \n",
    "    'Заготовим объяснялку, почему ничего не сходится'\n",
    "    M = - np.linalg.inv(L) @ U\n",
    "    m = np.linalg.norm(M)\n",
    "                \n",
    "    'теперь надо написать сам итеративный процесс'\n",
    "    x_old = np.zeros(n)\n",
    "    x_new = x_old.copy()\n",
    "    s = 0\n",
    "    y = np.zeros(n_iter)\n",
    "    \n",
    "    'для варианта расчета с заданной точностью'\n",
    "    #eps = 10^(-5)\n",
    "    #Flag = True\n",
    "    \n",
    "    #while Flag:\n",
    "    for j in range(n_iter):\n",
    "        for i in range(n):\n",
    "            if i > 0:\n",
    "                s += L[i][i-1] * x_new[i-1]\n",
    "            x_new[i] = (- U[i, :] @ x_old + b[i] - s) / L[i][i]\n",
    "            \n",
    "            #Flag = np.linalg.norm(x_old - x_new) > eps\n",
    "            \n",
    "        x_old = x_new.copy()\n",
    "        y[j] = np.linalg.norm(x_old)\n",
    "\n",
    "    return x_new, m, y\n",
    "\n",
    "\"проверим себя, сгенерировав рандомную матрицу M и вектор v\"\n",
    "n = 5\n",
    "M = rndm.uniform(size=(n, n)) + 13*np.eye(n)\n",
    "v = rndm.uniform(size=n)\n",
    "\n",
    "x_ok = np.linalg.solve(M, v)\n",
    "x_my, m, y = Seidel(M, v)\n",
    "print(m, x_my, x_ok, np.linalg.norm(x_my), np.linalg.norm(x_ok))\n",
    "\n",
    "'посмотрим, как ведут себя итерации вообще'\n",
    "x = np.arange(1000)\n",
    "\n",
    "fig1, ax1 = plt.subplots()\n",
    "ax1.stackplot(x, y, labels = ['Norm of x on iteration'])\n",
    "ax1.legend(loc = 'upper right')\n",
    "ax1.set_xlabel('$x$')\n",
    "ax1.set_ylabel('$y$')\n",
    "\n",
    "'алгос сходится куда-то непонятно куда'"
   ]
  },
  {
   "cell_type": "markdown",
   "metadata": {},
   "source": [
    "# III. Minimum residual scheme"
   ]
  },
  {
   "cell_type": "markdown",
   "metadata": {},
   "source": [
    "### Task III.1\n",
    "\n",
    "Implement the $\\textit{minimum residual}$ scheme: an explicit non-stationary method, where at each step you select the iteration parameter $\\tau_n$ to minimize the residual $\\mathbf{r}_{n+1}$ given $\\mathbf{r}_n$. Test it on a random matrix, study the convergence to the solution, in terms of the norm of the residual and the deviation from the ground truth solution (which you can obtain using a direct method). Study how the iteration parameter $\\tau_n$ changes as iterations progress.\n",
    "\n",
    "(50% of the grade)"
   ]
  },
  {
   "cell_type": "code",
   "execution_count": 33,
   "metadata": {},
   "outputs": [
    {
     "name": "stdout",
     "output_type": "stream",
     "text": [
      "[-0.7180427  -0.38892751 -1.06276321  2.85474803 -1.78753629]\n"
     ]
    },
    {
     "data": {
      "text/plain": [
       "'опять все расходится'"
      ]
     },
     "execution_count": 33,
     "metadata": {},
     "output_type": "execute_result"
    },
    {
     "data": {
      "image/png": "[encoded data removed]",
      "text/plain": [
       "<Figure size 432x288 with 1 Axes>"
      ]
     },
     "metadata": {
      "needs_background": "light"
     },
     "output_type": "display_data"
    }
   ],
   "source": [
    "def MRS(mat, vec, eps = 10^(-3)):\n",
    "    A = mat.copy()\n",
    "    b = vec.copy()\n",
    "    \n",
    "    n = b.size\n",
    "    \n",
    "    x_old = np.ones(n)\n",
    "    x_new = x_old.copy()\n",
    "    y = np.zeros(1000)\n",
    "    \n",
    "    Flag = True\n",
    "    \n",
    "    #while Flag:\n",
    "    for i in range(1000):\n",
    "        r = A @ x_old - b\n",
    "        tau = (r @ A @ r) / (np.linalg.norm(A @ r))**2\n",
    "        x_new = x_old - tau * r\n",
    "        \n",
    "        y[i] = tau\n",
    "        \n",
    "        #if np.linalg.norm(x_old - x_new) < eps:\n",
    "           # Flag = False\n",
    "            \n",
    "        x_old = x_new.copy()\n",
    "    \n",
    "    return x_new\n",
    "\n",
    "n = 5\n",
    "M = rndm.uniform(size=(n, n))\n",
    "v = rndm.uniform(size=n)\n",
    "\n",
    "x_ok = np.linalg.solve(M, v)\n",
    "x_my = MRS(M, v)\n",
    "\n",
    "print(x_ok - x_my)\n",
    "\n",
    "x = np.arange(1000)\n",
    "\n",
    "fig2, ax2 = plt.subplots()\n",
    "ax2.stackplot(x, y, labels = ['tau on iteration'])\n",
    "ax2.legend(loc = 'upper right')\n",
    "ax2.set_xlabel('$x$')\n",
    "ax2.set_ylabel('$y$')\n",
    "\n",
    "'опять все расходится'\n"
   ]
  },
  {
   "cell_type": "code",
   "execution_count": null,
   "metadata": {},
   "outputs": [],
   "source": []
  }
 ],
 "metadata": {
  "celltoolbar": "Raw Cell Format",
  "kernelspec": {
   "display_name": "Python 3",
   "language": "python",
   "name": "python3"
  },
  "language_info": {
   "codemirror_mode": {
    "name": "ipython",
    "version": 3
   },
   "file_extension": ".py",
   "mimetype": "text/x-python",
   "name": "python",
   "nbconvert_exporter": "python",
   "pygments_lexer": "ipython3",
   "version": "3.7.3"
  }
 },
 "nbformat": 4,
 "nbformat_minor": 2
}
