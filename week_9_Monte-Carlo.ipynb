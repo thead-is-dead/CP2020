{
 "cells": [
  {
   "cell_type": "markdown",
   "metadata": {},
   "source": [
    "# Метод Монте-Карло в физике"
   ]
  },
  {
   "cell_type": "markdown",
   "metadata": {},
   "source": [
    "Методами Монте-Карло называют множество различных методов в совершенно разных областях от физики до экономики. Основная суть этих методов заключается в использовании случайных величин для получения различных состояний исследуемой системы. "
   ]
  },
  {
   "cell_type": "markdown",
   "metadata": {},
   "source": [
    "Одно из частых применений метода Монте-Карло в физике состоит в расчете интегралов. При этом действительно полезным и незаменимым метод становится при работе с большим количеством измерений, когда построение обычных квадратур приводит к чересчур  огромным сеткам. Например, уже в случае 10 измерений, задание обычной равномерной решетки шириной в $2^4 = 16$ узлов, приводит к общей сетке размера $2^{40} \\simeq 10^{12}$. Массив данных float такого размера будет занимать 4ТБ в памяти компьютера. Оперировать такими интегралами стандартными методами становится принципиально невозможно."
   ]
  },
  {
   "cell_type": "code",
   "execution_count": 3,
   "metadata": {},
   "outputs": [],
   "source": [
    "import numpy as np\n",
    "import matplotlib.pyplot as plt\n",
    "import scipy.special as sp\n",
    "plt.style.use('ggplot')\n",
    "%matplotlib notebook"
   ]
  },
  {
   "cell_type": "markdown",
   "metadata": {},
   "source": [
    "## Задание 1\n",
    "Вычислим объем многомерной сферы в большом количестве измерений."
   ]
  },
  {
   "cell_type": "markdown",
   "metadata": {},
   "source": [
    "### Задание 1.1 \n",
    "Напишите функцию, вычисляющую точный объем $d$-мерной сферы с помощью явного выражения. \n",
    "Объем многомерной сферы радиуса $R$ в $d$-измерениях дается формулой: \n",
    "$$\n",
    "V_d = \\frac{\\pi^{d/2}} {\\Gamma(1 + d/2)}\n",
    "$$\n",
    "где $\\Gamma(x)$ - гамма функция, значение которой можно получить из scipy.special."
   ]
  },
  {
   "cell_type": "code",
   "execution_count": 15,
   "metadata": {},
   "outputs": [],
   "source": [
    "def getSphereVolumeExact(D, R):\n",
    "    \"\"\"\n",
    "    Функция вычисляет значение объема D-мерной сферы радиуса R по явной формуле\n",
    "\n",
    "    --------\n",
    "    Аргументы:\n",
    "    D - int, количество измерений \n",
    "    R = 1 - float, радиус сферы\n",
    "    --------\n",
    "    Функция возвращает:\n",
    "    V - float, объем сферы\n",
    "    \"\"\"\n",
    "    V = np.pi**(D / 2) / sp.gamma(1 + D / 2) * R**D\n",
    "    return V"
   ]
  },
  {
   "cell_type": "markdown",
   "metadata": {},
   "source": [
    "1. Проверьте результат для нескольких известных вам значений. \n",
    "2. Построите график V(D)"
   ]
  },
  {
   "cell_type": "code",
   "execution_count": 4,
   "metadata": {
    "scrolled": true
   },
   "outputs": [
    {
     "name": "stdout",
     "output_type": "stream",
     "text": [
      "ошибка для n = 2 - 0.0\n",
      "ошибка для n = 3 - -8.881784197001252e-16\n"
     ]
    },
    {
     "data": {
      "text/plain": [
       "Text(0, 0.5, 'Объем гипершара единичного радиуса')"
      ]
     },
     "execution_count": 4,
     "metadata": {},
     "output_type": "execute_result"
    },
    {
     "data": {
      "image/png": "[encoded data removed]",
      "text/plain": [
       "<Figure size 432x288 with 1 Axes>"
      ]
     },
     "metadata": {
      "needs_background": "light"
     },
     "output_type": "display_data"
    }
   ],
   "source": [
    "#проверка для хорошо известных значений n = 2, n = 3\n",
    "print(\"ошибка для n = 2 -\", np.pi - getSphereVolumeExact(2, R = 1))\n",
    "print(\"ошибка для n = 3 -\", 4 * np.pi / 3 - getSphereVolumeExact(3, R = 1))\n",
    "\n",
    "\n",
    "#построение графика\n",
    "D = np.arange(2, 30)\n",
    "V = [getSphereVolumeExact(i, R = 1) for i in D]\n",
    "\n",
    "fig, ax = plt.subplots()\n",
    "ax.plot(D, V, 'ro')\n",
    "ax.set_xlabel('Размерность пространства')\n",
    "ax.set_ylabel('Объем гипершара единичного радиуса')"
   ]
  },
  {
   "cell_type": "markdown",
   "metadata": {},
   "source": [
    "Заметим, что объем гипершара стремится к нулю при $d \\to \\infty$. "
   ]
  },
  {
   "cell_type": "markdown",
   "metadata": {},
   "source": [
    "### Задание 1.2\n",
    "Напишите функцию, вычисляющую объем сферы методом Монте-Карло на псевдослучайных числах (используя, например `numpy.random.rand`)."
   ]
  },
  {
   "cell_type": "code",
   "execution_count": 56,
   "metadata": {},
   "outputs": [
    {
     "name": "stdout",
     "output_type": "stream",
     "text": [
      "2 - 3.13848\n",
      "Площадь единичного двумерного круга при миллионе точек - 3.13848\n"
     ]
    }
   ],
   "source": [
    "def getSphereVolumePseudorandom(N, D, R = 1):\n",
    "    \"\"\"\n",
    "    Функция вычисляет значение объема D-мерной сферы радиуса R методом Монте-Кало на псевдослучайных числах\n",
    "\n",
    "    --------\n",
    "    Аргументы:\n",
    "    N - int, количество случайных точек\n",
    "    D - int, количество измерений \n",
    "    R = 1 - float, радиус сферы\n",
    "    --------\n",
    "    Функция возвращает:\n",
    "    V - float, объем сферы\n",
    "    \"\"\"\n",
    "#Сгенерируем равномерную случайную матрицу размером N х d , каждый элемент которой принадлежит [-R, R). \n",
    "#Строка такой матрицы - случайная точка в D-мерном кубе со стороной 2R. Единичная сфера целиком умещается в такой куб.\n",
    "    x = np.random.uniform(-R, R, (N, D))\n",
    "    \n",
    "    counter = 0\n",
    "    \n",
    "    #пройдемся по всем строкам, т.е. выбранным точкам, и посчитаем, сколько из них лежит внутри сферы\n",
    "    for i in range(N):\n",
    "        norm = 0\n",
    "        \n",
    "        for j in range(D):\n",
    "            norm += (x[i][j])**2\n",
    "        \n",
    "        if np.sqrt(norm) <= R:\n",
    "            counter += 1\n",
    "    \n",
    "    V = counter / N * (2*R)**D #умножение на (2*R)**D из-за объема куба, в который мы вписали сферу\n",
    "    #print(D, '-', V)\n",
    "    return V\n",
    "\n",
    "print(\"Площадь единичного двумерного круга при миллионе точек -\", getSphereVolumePseudorandom(N = 100000, D = 2, R = 1))"
   ]
  },
  {
   "cell_type": "markdown",
   "metadata": {},
   "source": [
    "Постройте график зависимости относительной точности $\\epsilon$ которая достигается при фиксированном $N$ от размерности сферы $D$. Для относительной точности используйте выражение $\\epsilon = (V_{exact} - V_{random})/V_{exact}$."
   ]
  },
  {
   "cell_type": "code",
   "execution_count": 57,
   "metadata": {},
   "outputs": [
    {
     "name": "stdout",
     "output_type": "stream",
     "text": [
      "2 - 3.1452\n",
      "3 - 4.2192\n",
      "4 - 4.9936\n",
      "5 - 5.5648\n",
      "6 - 5.12\n",
      "7 - 4.6208\n",
      "8 - 4.1216\n",
      "9 - 3.7376\n",
      "10 - 2.3552\n",
      "11 - 1.4336\n",
      "12 - 3.2768\n",
      "13 - 0.8192\n",
      "14 - 1.6384\n",
      "15 - 0.0\n",
      "16 - 0.0\n",
      "17 - 0.0\n",
      "18 - 0.0\n",
      "19 - 0.0\n"
     ]
    },
    {
     "data": {
      "text/plain": [
       "Text(0, 0.5, '$\\\\epsilon$')"
      ]
     },
     "execution_count": 57,
     "metadata": {},
     "output_type": "execute_result"
    },
    {
     "data": {
      "image/png": "[encoded data removed]",
      "text/plain": [
       "<Figure size 432x288 with 1 Axes>"
      ]
     },
     "metadata": {
      "needs_background": "light"
     },
     "output_type": "display_data"
    }
   ],
   "source": [
    "# Write your code and answer here\n",
    "\n",
    "#зафиксируем N = 10**4\n",
    "x = np.arange(2, 20)\n",
    "eps = [1 - getSphereVolumePseudorandom(10000, int(i), 1) / getSphereVolumeExact(i, 1) for i in x]\n",
    "\n",
    "fig1, ax1 = plt.subplots()\n",
    "ax1.plot(x, eps, 'ro')\n",
    "ax1.set_xlabel(\"Размерность пространства\")\n",
    "ax1.set_ylabel(\"$\\epsilon$\")\n"
   ]
  },
  {
   "cell_type": "markdown",
   "metadata": {},
   "source": [
    "Сначала ошибка очень мала, затем начинает заметно осциллировать и становится равной 1 при d ~ 14 (т.е. алгоритм на псведо-случайных числах начал выдавать машинный ноль в качестве искомого объема при данном количестве точек). "
   ]
  },
  {
   "cell_type": "markdown",
   "metadata": {},
   "source": [
    "### Задание 1.3\n",
    "Напишите функцию, вычисляющую объем сферы методом Монте-Карло на квазислучайной последовательности Соболя.\n",
    "\n",
    "Для установки библиотеки `sobol_seq`:\n",
    "\n",
    "\n",
    "выполните `pip install sobol_seq` в Jupyter или\n",
    "\n",
    "выполните команду `pip install sobol_seq --user` в командном окне (если вы используете Jupyter Notebook в составе Anaconda откройте Anaconda Prompt и выполните команду pip в ней, после чего перезапустите Jupyter Notebook).\n"
   ]
  },
  {
   "cell_type": "code",
   "execution_count": 2,
   "metadata": {},
   "outputs": [
    {
     "name": "stdout",
     "output_type": "stream",
     "text": [
      "Requirement already satisfied: sobol_seq in c:\\programdata\\anaconda3\\lib\\site-packages (0.2.0)\n",
      "Requirement already satisfied: scipy in c:\\programdata\\anaconda3\\lib\\site-packages (from sobol_seq) (1.2.1)\n",
      "Requirement already satisfied: numpy in c:\\programdata\\anaconda3\\lib\\site-packages (from sobol_seq) (1.16.4)\n"
     ]
    }
   ],
   "source": [
    "!pip install sobol_seq\n",
    "import sobol_seq"
   ]
  },
  {
   "cell_type": "markdown",
   "metadata": {},
   "source": [
    "Используйте функцию `i4_sobol_generate`. Документацию по ней можно получить выполнив следующую строчку кода:"
   ]
  },
  {
   "cell_type": "code",
   "execution_count": 31,
   "metadata": {},
   "outputs": [],
   "source": [
    "sobol_seq.i4_sobol_generate?"
   ]
  },
  {
   "cell_type": "code",
   "execution_count": 62,
   "metadata": {},
   "outputs": [
    {
     "name": "stdout",
     "output_type": "stream",
     "text": [
      "0.0001 2.461136950494199e-08\n"
     ]
    }
   ],
   "source": [
    "def getSphereVolumeQuasirandom(N, D, R = 1):\n",
    "    \"\"\"\n",
    "    Функция вычисляет значение объема D-мерной сферы радиуса R методом Монте-Кало на квазислучайных числах\n",
    "\n",
    "    --------\n",
    "    Аргументы:\n",
    "    N - int, количество случайных точек\n",
    "    D - int, количество измерений \n",
    "    R = 1 - float, радиус сферы\n",
    "    --------\n",
    "    Функция возвращает:\n",
    "    V - float, объем сферы\n",
    "    \"\"\"\n",
    "    #отмасштабируем числа, выдаваемые последовательностью Соболя\n",
    "    x = sobol_seq.i4_sobol_generate(D, N)\n",
    "    x = 2 * R * x\n",
    "    x = x - R * np.ones((N, D))\n",
    "    \n",
    "    counter = 0\n",
    "    \n",
    "    #пройдемся по всем столбцам, т.е. выбранным точкам, и посчитаем, сколько из них лежит внутри сферы\n",
    "    for i in range(N):\n",
    "        norm = 0.0\n",
    "        \n",
    "        for j in range(D):\n",
    "            norm += (x[i][j])**2\n",
    "        \n",
    "        if np.sqrt(norm) <= R:\n",
    "            counter += 1\n",
    "    \n",
    "    V = counter / N * (2*R)**D #умножение на (2*R)**D из-за объема куба, в который мы вписали сферу\n",
    "    \n",
    "    return V\n"
   ]
  },
  {
   "cell_type": "markdown",
   "metadata": {},
   "source": [
    "Сравните точность вычисления объема для квазислучайной и псевдослучайной последовательностей, рассчитав  $\\epsilon(D)$, при таком же значении $N$, как в предыдущем задании. Постройте обе зависимости $\\epsilon(D)$ на одном графике в логарифмической шкале по $\\epsilon$."
   ]
  },
  {
   "cell_type": "code",
   "execution_count": 48,
   "metadata": {},
   "outputs": [
    {
     "data": {
      "text/plain": [
       "<matplotlib.legend.Legend at 0x162b46c2b70>"
      ]
     },
     "execution_count": 48,
     "metadata": {},
     "output_type": "execute_result"
    },
    {
     "data": {
      "image/png": "[encoded data removed]",
      "text/plain": [
       "<Figure size 432x288 with 1 Axes>"
      ]
     },
     "metadata": {
      "needs_background": "light"
     },
     "output_type": "display_data"
    }
   ],
   "source": [
    "# Write your code and answer here\n",
    "\n",
    "#зафиксируем N = 10**4\n",
    "x = np.arange(2, 20)\n",
    "eps1 = [np.log10(abs(1 - getSphereVolumePseudorandom(10000, i, 0.5) / getSphereVolumeExact(i, 0.5))) for i in x]\n",
    "eps2 = [np.log10(abs(1 - getSphereVolumeQuasirandom(10000, i, 0.5) / getSphereVolumeExact(i, 0.5))) for i in x]\n",
    "\n",
    "#ЕСЛИ РАСКОММЕНТИТЬ ЭТИ ДВЕ СТРОКИ И ЗАКОММЕНТИТЬ ДВЕ ВЕРХНИЕ СТРОКИ, ТО МОЖНО УВИДЕТЬ, ЧТО SCIPY НЕ СЧИТАЕТ \n",
    "#ГАММА-ФУНКЦИЮ ТАК ТОЧНО, КАК МЫ ПРОСИМ, И ОТ ЭТОГО ПРИ d > 14 ПОЛУЧАЕТСЯ АБСУРД\n",
    "\n",
    "#eps1 = [np.log10(abs(getSphereVolumePseudorandom(10000, i, 0.5) / getSphereVolumeExact(i, 0.5))) for i in x]\n",
    "#eps2 = [np.log10(abs(getSphereVolumeQuasirandom(10000, i, 0.5) / getSphereVolumeExact(i, 0.5))) for i in x]\n",
    "\n",
    "fig2, ax2 = plt.subplots()\n",
    "ax2.plot(x, eps1, 'ro', label = 'псевдослучайные числа')\n",
    "ax2.plot(x, eps2, 'bo', label = 'квазислучайные числа')\n",
    "ax2.set_xlabel(\"Размерность пространства\")\n",
    "ax2.set_ylabel(\"$\\log(|\\epsilon|)$\")\n",
    "ax2.legend(loc = 'lower right')\n",
    "\n"
   ]
  },
  {
   "cell_type": "markdown",
   "metadata": {},
   "source": [
    "Сделайте вывды о работе псевдослучайной и квазислучайной последовательностях. "
   ]
  },
  {
   "cell_type": "markdown",
   "metadata": {},
   "source": [
    "Поначалу точность не сильно отличается в обоих алгоритмах. При d ~ 14 алгоритм на псевдослучайных числах начинает выдавать нулевой объем, соответственно получается $\\epsilon = 1$ и $\\log(\\epsilon) = 0$. А для алгоритма на квазислучайных числах просто не хватает точности, он не успевает за уменьшением точного объема и получается, что $V_{quasi} / V_{exact} >> 1 => \\log(|1 - V_{quasi} / V_{exact}|) > 0$"
   ]
  },
  {
   "cell_type": "markdown",
   "metadata": {},
   "source": [
    "## Задание 2\n",
    "\n",
    "Рассмотрим решетку $n\\times n$, в которой каждой ячейке соответствует спин $\\sigma_i$ равный $+1$ или $-1$. При этом между соседними ячейками существует энергия взаимодействия\n",
    "$$\n",
    "E_i = -J \\sigma_i \\sigma_j\n",
    "$$\n",
    "Тогда энергия каждой ячейки \n",
    "$$\n",
    "E_i = -J \\sigma_i \\sum_j \\sigma_j\n",
    "$$\n",
    "где суммирование подразумевается только по соседним с $i$-ой ячейкой.\n",
    "\n",
    "При нулевой температуре энергитически более выгодным состоянием является состояние, когда все спины одинаково ориентированы. Однако при ненулевой температуре вероятность перехода в более возбужденное состояние пропорциональна $\\sim \\exp(-\\Delta E/ k T)$.\n",
    "\n",
    "Явное численное моделирование такой системы (модели Изинга) является проблематичным, поскольку количество возможных состояний системы $2^N$, где $N$ - общее число узлов, и уже для двумерной сетки $16\\times 16$ это число становится астрономически большим. "
   ]
  },
  {
   "cell_type": "markdown",
   "metadata": {},
   "source": [
    "На помощь приходят методы Монте-Карло. Одна из простейших его реализаций (алгоритм Метрополиса — Гастингса):\n",
    "1. Задаем случайное начальное состояние\n",
    "2. Выбираем случайную ячейку\n",
    "3. Переворачиваем её спин и считаем изменение энергии $\\delta E$ данной ячейки.\n",
    "4. Если изменение энергии отрицательное, оставляем спин перевернутым\n",
    "5. Если изменение энергии положительное, оставляем спин перевернутым с вероятностью $\\exp(-\\delta E/kT)$\n",
    "6. Повторяем пункты 2-5 нужное количество раз\n",
    "\n",
    "Спустя достаточно большое количество повторений устанавливается равновесное состояние. "
   ]
  },
  {
   "cell_type": "markdown",
   "metadata": {},
   "source": [
    "Реализуем данный алгоритм: \n",
    "1. Задайте начальное случайное расраспределение в виде матрицы из $+1$ и $-1$ размерности $N\\times N$:"
   ]
  },
  {
   "cell_type": "code",
   "execution_count": 1,
   "metadata": {
    "scrolled": true
   },
   "outputs": [],
   "source": [
    "def getInitialState(N):\n",
    "    '''\n",
    "    Функция задает случайное начальное состояние\n",
    "    ---------\n",
    "    Аргументы:\n",
    "    N - int, линейный размер решетки \n",
    "    --------\n",
    "    Функция возвращает:\n",
    "    state - numpy ndarray of ints, массив состояния системы размера NxN\n",
    "    '''\n",
    "    state = np.zeros((N,N))\n",
    "    #будем использовать биномиальное распределение\n",
    "    \n",
    "    for i in range(N):\n",
    "        for j in range(N):\n",
    "            if np.random.binomial(1, 0.5) == 0:\n",
    "                state[i][j] = -1\n",
    "            else:\n",
    "                state[i][j] = 1\n",
    "            \n",
    "    return state\n",
    "\n",
    "#print(getInitialState(10))"
   ]
  },
  {
   "cell_type": "markdown",
   "metadata": {},
   "source": [
    "2. Напишите функцию, которая для ячейки $(i,j)$ расчитывает изменение её энергии, если изменить её знак. При этом для простоты предполагаем, во-первых, что $J=1$ (на него отнормируем kT), и во-вторых, что элементы находящиеся на верхней и нижней (левой и правой) границах находятся рядом друг с другом (топология тора).  \n"
   ]
  },
  {
   "cell_type": "code",
   "execution_count": 5,
   "metadata": {},
   "outputs": [],
   "source": [
    "def getDeltaE(i, j, state):\n",
    "    '''\n",
    "    Функция расчитывает и возвращает изменение энергии ячейки (i,j) в случае ее переворота (не меняя состояния state)\n",
    "    \n",
    "    ---------\n",
    "    Аргументы:\n",
    "    i - int, адресс ячейки вдоль оси 0\n",
    "    j - int, адресс ячейки вдоль оси 1\n",
    "    state - numpy ndarray of ints, массив состояния системы размера NxN\n",
    "    --------\n",
    "    Функция возвращает:\n",
    "    dE - float, изменение энергии\n",
    "    '''\n",
    "    #запомним ячейку\n",
    "    s = state[i][j]\n",
    "    \n",
    "    #левый сосед\n",
    "    l = state[i][j - 1]\n",
    "    \n",
    "    #правый сосед\n",
    "    if j == state.shape[1] - 1:\n",
    "        r = state[i][0]\n",
    "    else:\n",
    "        r = state[i][j + 1]\n",
    "    \n",
    "    #верхний сосед\n",
    "    u = state[i - 1][j]\n",
    "     \n",
    "    #нижний сосед\n",
    "    if i == state.shape[0] - 1:\n",
    "        d = state[0][j]\n",
    "    else:\n",
    "        d = state[i + 1][j]\n",
    "    \n",
    "    dE = 2 * s * (l + r + u + d)\n",
    "    \n",
    "    return dE\n",
    "\n",
    "#state = getInitialState(10)\n",
    "#print(state, getDeltaE(0, 0, state))"
   ]
  },
  {
   "cell_type": "markdown",
   "metadata": {},
   "source": [
    "3. Напишите функцию, которая $N^2$ раз для разных случайных $(i,j)$ меняет спин в зависимости от изменения энергии, согласно пунктам 4. и 5. "
   ]
  },
  {
   "cell_type": "code",
   "execution_count": 6,
   "metadata": {},
   "outputs": [],
   "source": [
    "def makeFlip(T, state):\n",
    "    '''\n",
    "    Функция N^2 раз переворачивает спин, и принимает решение оставить его перевернутым или нет, согласно правилам 4. и 5.\n",
    "    \n",
    "    ---------\n",
    "    Аргументы:\n",
    "    T - float, положительное число, безразмерный коэфициент, характеризующий температуру, равный kT/J\n",
    "    state - numpy ndarray of ints, массив состояния системы размера NxN\n",
    "    --------\n",
    "    Функция возвращает:\n",
    "    state - numpy ndarray of ints, массив нового состояния системы размера NxN\n",
    "    '''\n",
    "    \n",
    "    N = state.shape[0]\n",
    "    \n",
    "    for k in range(N * N):\n",
    "        #выбор случайной ячейки\n",
    "        i = np.random.randint(0, N - 1)\n",
    "        j = np.random.randint(0, N - 1)\n",
    "        \n",
    "        dE = getDeltaE(i, j, state)\n",
    "        \n",
    "        if dE <= 0:\n",
    "            state[i][j] = - state[i][j]\n",
    "        else:\n",
    "            if np.random.binomial(1, np.exp(-dE/T)) == 1:\n",
    "                state[i][j] = - state[i][j]\n",
    "    \n",
    "    return state\n"
   ]
  },
  {
   "cell_type": "markdown",
   "metadata": {},
   "source": [
    "4. Напишите функцию, которая будет рассчитывать значение энергии всей системы (предполагаем $J=1$)."
   ]
  },
  {
   "cell_type": "code",
   "execution_count": 7,
   "metadata": {},
   "outputs": [],
   "source": [
    "def getEnergy(state):\n",
    "    '''\n",
    "    Функция, рассчитывает значение энергии всей системы\n",
    "    ---------\n",
    "    Аргументы:\n",
    "    state - numpy ndarray of ints, массив состояния системы размера NxN\n",
    "    --------\n",
    "    Функция возвращает:\n",
    "    E - float, значение энергии системы\n",
    "    '''\n",
    "    N = state.shape[0]\n",
    "    \n",
    "    E = 0\n",
    "    \n",
    "    for i in range(N):\n",
    "        for j in range(N):\n",
    "            s = state[i][j]\n",
    "            \n",
    "            l = state[i][j - 1]\n",
    "    \n",
    "            if j == state.shape[1] - 1:\n",
    "                r = state[i][0]\n",
    "            else:\n",
    "                r = state[i][j + 1]\n",
    "    \n",
    "            u = state[i - 1][j]\n",
    "     \n",
    "            if i == state.shape[0] - 1:\n",
    "                d = state[0][j]\n",
    "            else:\n",
    "                d = state[i + 1][j]\n",
    "                \n",
    "            E += -s * (l + r + d + u)\n",
    "    \n",
    "    E = E / 2        \n",
    "    \n",
    "    return E\n"
   ]
  },
  {
   "cell_type": "markdown",
   "metadata": {},
   "source": [
    "5. Напишите функцию, которая будет рассчитывать значение намагниченности всей системы $M=\\sum \\sigma$"
   ]
  },
  {
   "cell_type": "code",
   "execution_count": 8,
   "metadata": {},
   "outputs": [],
   "source": [
    "def getMagnetization(state):    \n",
    "    '''\n",
    "    Функция, рассчитывает значение намагниченности всей системы\n",
    "    ---------\n",
    "    Аргументы:\n",
    "    state - numpy ndarray of ints, массив состояния системы размера NxN\n",
    "    --------\n",
    "    Функция возвращает:\n",
    "    M - float, значение намагниченности системы\n",
    "    '''\n",
    "    N = state.shape[0]\n",
    "    \n",
    "    M = 0\n",
    "    \n",
    "    for i in range(N):\n",
    "        for j in range(N):\n",
    "            M += state[i][j]\n",
    "    \n",
    "    return M\n"
   ]
  },
  {
   "cell_type": "markdown",
   "metadata": {},
   "source": [
    "В следующей ячейке кода зададим начальные параметры: \n",
    "\n",
    "**Nt** - количество точек по температуре, \n",
    "\n",
    "**N** - линейный размер решетки, \n",
    "\n",
    "**eqStep** - количество попыток переворота спина, в течение которых система приводится к равновесному сосотоянию. Обратите внимание, что это число должно увеличиваться пропорционально размеру всей сетки,\n",
    "\n",
    "**steps** - количество попыток переворота спина, в течение которых рассчитывается значения энергии и намагниченности (нужно для усреднения расчитанных значений по ансамблю состояний, близких к равновесному)"
   ]
  },
  {
   "cell_type": "code",
   "execution_count": 87,
   "metadata": {},
   "outputs": [],
   "source": [
    "N       = 20        # размер решетки NxN\n",
    "Nt      = 100         # количество точек температуры\n",
    "eqSteps = 300       # количество раз выполнения makeFlip для установления равновесия\n",
    "steps   = 60        # количество раз выполнения makeFlip для усреднения энергии и намагниченности\n",
    "\n",
    "T = np.linspace(0.5, 5, Nt); \n",
    "E, M = np.zeros(Nt), np.zeros(Nt)"
   ]
  },
  {
   "cell_type": "code",
   "execution_count": 88,
   "metadata": {},
   "outputs": [
    {
     "name": "stdout",
     "output_type": "stream",
     "text": [
      "Done              99999999 %%\r"
     ]
    },
    {
     "data": {
      "image/png": "[encoded data removed]",
      "text/plain": [
       "<Figure size 720x360 with 2 Axes>"
      ]
     },
     "metadata": {
      "needs_background": "light"
     },
     "output_type": "display_data"
    }
   ],
   "source": [
    "for t in range(Nt):\n",
    "    print(\"Complete\", t/Nt*100, '%\\r', end='')\n",
    "    \n",
    "    Esum = Msum = 0\n",
    "    state = getInitialState(N)\n",
    "    \n",
    "    for i in range(eqSteps):         # установление статистического равновесия\n",
    "        makeFlip(T[t], state)          \n",
    "\n",
    "    for i in range(steps):           # суммирование по разным состояниям близким к равновеснсому\n",
    "        makeFlip(T[t], state)          \n",
    "        Esum += getEnergy(state)       \n",
    "        Msum += getMagnetization(state) \n",
    "\n",
    "    E[t] = Esum / (steps * N * N)\n",
    "    M[t] = Msum / (steps * N * N)\n",
    "\n",
    "print(\"Done              \\r\", end='')\n",
    "\n",
    "_, ax = plt.subplots(1,2,figsize=(10, 5));\n",
    "\n",
    "ax[0].scatter(T, E)\n",
    "ax[0].set_xlabel(\"Temperature\");\n",
    "ax[0].set_ylabel(\"Energy \");\n",
    "\n",
    "ax[1].scatter(T, abs(M), color = 'blue')\n",
    "ax[1].set_xlabel(\"Temperature\"); \n",
    "ax[1].set_ylabel(\"Magnetization \");"
   ]
  },
  {
   "cell_type": "markdown",
   "metadata": {},
   "source": [
    "Интерпретируйте с точки зрения физики полученные графики. Описывают ли они поведение ферромагнетиков и фазовые переходы?"
   ]
  },
  {
   "cell_type": "markdown",
   "metadata": {},
   "source": [
    "Да, описывают. С увеличением температуры мы видим увеличение тепловой энергии и достаточно резкое уменьшение намагниченности почти до нуля при определенной температуре, т.е. происходит как раз фазовый переход второго рода. "
   ]
  },
  {
   "cell_type": "markdown",
   "metadata": {},
   "source": [
    "Задайте новое сосотояние системы с достаточно большим $N$ и визуализируйте его думя цветами (например с помощью `plt.scatter`). Примените несколько раз к этому сосотоянию функциию makeFlip с низкой и с высокой температурами. Объясните наблюдаемое"
   ]
  },
  {
   "cell_type": "code",
   "execution_count": 10,
   "metadata": {},
   "outputs": [
    {
     "data": {
      "text/plain": [
       "<matplotlib.legend.Legend at 0x1ec7a3f5978>"
      ]
     },
     "execution_count": 10,
     "metadata": {},
     "output_type": "execute_result"
    },
    {
     "data": {
      "image/png": "[encoded data removed]",
      "text/plain": [
       "<Figure size 432x288 with 1 Axes>"
      ]
     },
     "metadata": {
      "needs_background": "light"
     },
     "output_type": "display_data"
    }
   ],
   "source": [
    "N = 64\n",
    "state = getInitialState(N)\n",
    "\n",
    "x01 = []\n",
    "x02 = []\n",
    "y01 = []\n",
    "y02 = []\n",
    "\n",
    "for i in range(N):\n",
    "    for j in range(N):\n",
    "        if state[i][j] == 1:\n",
    "            x01.append(i)\n",
    "            y01.append(j)\n",
    "        else:\n",
    "            x02.append(i)\n",
    "            y02.append(j)\n",
    "            \n",
    "fig10, ax10 = plt.subplots()\n",
    "ax10.scatter(x01, y01, c = 'grey', label = 'спин вверх')\n",
    "ax10.scatter(x02, y02, c = 'white', label = 'спин вниз')\n",
    "ax10.legend(loc = 'best')\n"
   ]
  },
  {
   "cell_type": "code",
   "execution_count": 11,
   "metadata": {
    "scrolled": true
   },
   "outputs": [
    {
     "data": {
      "text/plain": [
       "<Figure size 432x288 with 0 Axes>"
      ]
     },
     "metadata": {},
     "output_type": "display_data"
    },
    {
     "data": {
      "image/png": "[encoded data removed]",
      "text/plain": [
       "<Figure size 720x360 with 2 Axes>"
      ]
     },
     "metadata": {
      "needs_background": "light"
     },
     "output_type": "display_data"
    }
   ],
   "source": [
    "plt.figure()\n",
    "\n",
    "#Применим функцию makeFlip 10 раз для наглядности\n",
    "\n",
    "# Write your code here\n",
    "state_cold = state.copy()\n",
    "for i in range(10):\n",
    "    state_cold = makeFlip(0.01, state_cold)\n",
    "\n",
    "\n",
    "state_hot = state.copy()\n",
    "for i in range(10):\n",
    "    state_hot = makeFlip(10, state_hot)\n",
    "\n",
    "x1 = []\n",
    "x2 = []\n",
    "y1 = []\n",
    "y2 = []\n",
    "\n",
    "x3 = []\n",
    "y3 = []\n",
    "x4 = []\n",
    "y4 = []\n",
    "\n",
    "for i in range(N):\n",
    "    for j in range(N):\n",
    "        if state_cold[i][j] == 1:\n",
    "            x1.append(i)\n",
    "            y1.append(j)\n",
    "        else:\n",
    "            x2.append(i)\n",
    "            y2.append(j)\n",
    "            \n",
    "for i in range(N):\n",
    "    for j in range(N):\n",
    "        if state_hot[i][j] == 1:\n",
    "            x3.append(i)\n",
    "            y3.append(j)\n",
    "        else:\n",
    "            x4.append(i)\n",
    "            y4.append(j)\n",
    "            \n",
    "fig10, ax10 = plt.subplots(nrows=1, ncols=2, figsize = (10, 5))\n",
    "ax10[0].scatter(x1, y1, c = 'grey', label = 'спин вверх')\n",
    "ax10[0].scatter(x2, y2, c = 'white', label = 'спин вниз')\n",
    "ax10[0].set_title('Низкая температура')\n",
    "ax10[0].legend(loc = 'best')\n",
    "\n",
    "ax10[1].scatter(x3, y3, c = 'grey', label = 'спин вверх')\n",
    "ax10[1].scatter(x4, y4, c = 'white', label = 'спин вниз')\n",
    "ax10[1].set_title('Высокая температура')\n",
    "ax10[1].legend(loc = 'best')\n",
    "\n",
    "\n",
    "\n",
    "plt.tight_layout()"
   ]
  },
  {
   "cell_type": "markdown",
   "metadata": {},
   "source": [
    "При низкой температуре можно визуально выделить целые области одинаковой намагниченности - домены. При высокой температуре таких областей глаз уже не выхватывает, распределение спинов разной направленности выглядит более однородным. Этот факт снова иллюстрирует потерю ферромагнитных свойств при нагревании. "
   ]
  },
  {
   "cell_type": "code",
   "execution_count": null,
   "metadata": {},
   "outputs": [],
   "source": []
  }
 ],
 "metadata": {
  "kernelspec": {
   "display_name": "Python 3",
   "language": "python",
   "name": "python3"
  },
  "language_info": {
   "codemirror_mode": {
    "name": "ipython",
    "version": 3
   },
   "file_extension": ".py",
   "mimetype": "text/x-python",
   "name": "python",
   "nbconvert_exporter": "python",
   "pygments_lexer": "ipython3",
   "version": "3.7.3"
  }
 },
 "nbformat": 4,
 "nbformat_minor": 4
}
