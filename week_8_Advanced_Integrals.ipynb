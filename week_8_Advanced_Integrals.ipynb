{
 "cells": [
  {
   "cell_type": "markdown",
   "metadata": {},
   "source": [
    "## Part 1. Gaussian quadrature\n",
    "\n",
    "The Gaussian quadrature method is one of the methods of numerical integration that allows you to increase the accuracy of integration, by using orthogonal polynomials and their roots as nodes.\n",
    "\n",
    "$$\n",
    "\\int_a^b \\!  w(x)\\, f(x)\\, dx \\approx \\sum_{k=1}^n w_k \\, f(x_k) \\;,\n",
    "$$\n",
    "\n",
    "here $\\omega$ is the weight function, this weight function determines the basis of orthogonal polynomials whose roots are used as integration nodes. If the function $f(x)$ is a polynomial, then such an integration method gives *exact* value for the integral."
   ]
  },
  {
   "cell_type": "markdown",
   "metadata": {},
   "source": [
    "For example, let's calculate the following integral:\n",
    "$$\n",
    "\\int_{-1}^1 (7x^3 - 8 x^2 - 3 x + 3) dx  \\label{eq1}\\tag{1}\n",
    "$$\n",
    "\n",
    "Here function is already polynomial, so we put the weight function $\\omega(x) = 1$. Then the calculation of the integral reduces to the sum in the polynomials roots witch corresponding to the weight function $\\omega(x) = 1$. For example, here https://dlmf.nist.gov/18.3 you may see which basis of polynomials corresponds to your weight function.\n",
    "\n",
    "You may see, that Legendre polynomials correspond to our weight function. Now go to the documentation https://docs.scipy.org/doc/scipy/reference/special.html#orthogonal-polynomials. Here, the function *roots_legendre* immediately gives you the roots of the Legendre polynomial and weight at this roots (for Legendre polynomials all these weight are ones).\n"
   ]
  },
  {
   "cell_type": "markdown",
   "metadata": {},
   "source": [
    "### Task 1.1\n",
    "(20% of the grade)"
   ]
  },
  {
   "cell_type": "markdown",
   "metadata": {},
   "source": [
    "1. Calculate the exact value of the integral ([1](#mjx-eqn-eq1)) using a pen and paper (or in your mind). Remember it, then you will compare numerical results with it."
   ]
  },
  {
   "cell_type": "code",
   "execution_count": 2,
   "metadata": {},
   "outputs": [
    {
     "data": {
      "text/plain": [
       "0.666666666666667"
      ]
     },
     "execution_count": 2,
     "metadata": {},
     "output_type": "execute_result"
    }
   ],
   "source": [
    "- 2 * 8 / 3 + 6"
   ]
  },
  {
   "cell_type": "markdown",
   "metadata": {},
   "source": [
    "2. Calculate the value of the integral ([1](#mjx-eqn-eq1)) using the usual method of numerical integration on a uniform grid (for example, implemented by you in week_6_calculus homework). Estimate the number of nodes needed to achieve relative accuracy $10^{-10}$."
   ]
  },
  {
   "cell_type": "code",
   "execution_count": 3,
   "metadata": {},
   "outputs": [
    {
     "name": "stdout",
     "output_type": "stream",
     "text": [
      "(0.6666666666570126, 524288)\n",
      "Понадобилось примерно 5*10^5 узлов, чтобы достичь такой точности\n"
     ]
    }
   ],
   "source": [
    "#Я осознала свои ошибки в задании 6 и переписала тот код здесь. Теперь он работает.\n",
    "\n",
    "def f(x):\n",
    "    return 7 * x**3 - 8 * x**2 - 3 * x + 3\n",
    "\n",
    "def midpoint_rule(f, a, b, eps):\n",
    "    \"\"\" Calculate the integral of f from a to b using the midpoint rule.\n",
    "    \n",
    "    Parameters\n",
    "    ----------\n",
    "    func : callable\n",
    "        The function to integrate.\n",
    "    a : float\n",
    "        The lower limit of integration.\n",
    "    b : float\n",
    "        The upper limit of integration.\n",
    "    eps : float\n",
    "        The target accuracy of the estimate.\n",
    "        \n",
    "    Returns\n",
    "    -------\n",
    "    integral : float\n",
    "        The estimate of $\\int_a^b f(x) dx$.\n",
    "    \"\"\"\n",
    "    I1 = 0\n",
    "    I2 = 0\n",
    "    \n",
    "    for i in range(5, 20):\n",
    "        k = 2**i\n",
    "        \n",
    "        h1 = (b - a) / 2**i\n",
    "        I1 = (f(a) + f(b)) / 2 * h1\n",
    "        \n",
    "        h2 = (b - a) / 2**(i + 1)\n",
    "        I2 = (f(a) + f(b)) / 2 * h2\n",
    "        \n",
    "        for j in range(1, 2**i):\n",
    "            I1 += f(a + j * h1) * h1\n",
    "            \n",
    "        for j in range(1, 2**(i + 1)):\n",
    "            I2 += f(a + j * h2) * h2\n",
    "            \n",
    "        if abs(I1 - I2) < eps:\n",
    "            break\n",
    "            \n",
    "    return I2, k\n",
    "        \n",
    "\n",
    "print(midpoint_rule(f = f, a = -1, b = 1, eps = 1e-10)) \n",
    "print(\"Понадобилось примерно 5*10^5 узлов, чтобы достичь такой точности\")"
   ]
  },
  {
   "cell_type": "markdown",
   "metadata": {},
   "source": [
    "3. Calculate the integral ([1](#mjx-eqn-eq1)) using the roots of the Legendre polynomial from 1 to 6 degrees as nodes (to get roots and weigths use scipy.special.roots_legendre)"
   ]
  },
  {
   "cell_type": "code",
   "execution_count": 4,
   "metadata": {},
   "outputs": [
    {
     "name": "stdout",
     "output_type": "stream",
     "text": [
      "0.6666666666666674\n"
     ]
    }
   ],
   "source": [
    "import scipy.special as scp\n",
    "\n",
    "x, y = scp.roots_legendre(n = 2)\n",
    "\n",
    "I = f(x[0]) + f(x[1])\n",
    "print(I)"
   ]
  },
  {
   "cell_type": "markdown",
   "metadata": {},
   "source": [
    "Compare the number of nodes needed to obtain the same accuracy in both numerical methods."
   ]
  },
  {
   "cell_type": "markdown",
   "metadata": {},
   "source": [
    "В методе из дз6 нам понадобилось примерно 52 тысячи узлов, в этом методе - 2."
   ]
  },
  {
   "cell_type": "markdown",
   "metadata": {},
   "source": [
    "### Task 1.2\n",
    "(20% of the grade)\n",
    "\n",
    "Calculate the value of the same integral, but on the interval from 0 to 10.\n",
    "$$\n",
    "\\int_{0}^{10} (7x^3 - 8 x^2 - 3 x + 3) dx \n",
    "$$\n",
    "\n",
    "Please note that you can no longer directly use Legendre polynomials, because they are defined for the interval (-1,1). But you can always make an *affine transformation* (a transformation that does not change the area) in order to go to the desired coordinate system."
   ]
  },
  {
   "cell_type": "markdown",
   "metadata": {},
   "source": [
    "Напишем афинное преобразование $y \\to x$, такое, чтобы $y \\in (-1, 1), x \\in (0, 10)$. Решив систему из двух линейных уравнений получим $x = 5y + 5$. Тогда интегралменяется на $\\int_{-1}^{1} [7(5y + 5)^3 - 8(5y + 5)^2 - 3(5y + 5) + 3]5dy$. Заметим, что вес теперь 5. Точное значение интеграла 14713.(3)."
   ]
  },
  {
   "cell_type": "code",
   "execution_count": 5,
   "metadata": {},
   "outputs": [
    {
     "name": "stdout",
     "output_type": "stream",
     "text": [
      "14713.333333333336\n"
     ]
    }
   ],
   "source": [
    "def func(x):\n",
    "    return 7 * (5*x + 5)**3 - 8 * (5*x + 5)**2 - 3 * (5*x + 5) + 3\n",
    "    \n",
    "I = 5 * func(x[0]) + 5 * func(x[1])\n",
    "\n",
    "print(I)"
   ]
  },
  {
   "cell_type": "markdown",
   "metadata": {},
   "source": [
    "Compare the result with the exact value of the integral.\n",
    "\n",
    "\n",
    "Значения сходятся."
   ]
  },
  {
   "cell_type": "markdown",
   "metadata": {},
   "source": [
    "### Task 1.3\n",
    "(20% of the grade)\n",
    "\n",
    "Calculate the value of the following integral:\n",
    "$$\n",
    "\\int_{0}^{2\\pi} \\frac{cos(x) dx }{\\sqrt{4\\pi^2 - x^2}}\n",
    "$$\n",
    "by using the corresponding basis of orthogonal polynomials. \n",
    "Find the degree of the polynomial (number of nodes) at which the accuracy of the integral starts to exceed the double floating point accuracy."
   ]
  },
  {
   "cell_type": "markdown",
   "metadata": {},
   "source": [
    "$$\\int_0^{2\\pi} \\frac{\\cos(x)}{\\sqrt{4\\pi^2 - x^2}} dx = \\int_0^{2\\pi} \\frac{\\cos(x)}{2\\pi\\sqrt{1 - \\big(\\frac{x}{2\\pi}\\big)^2}} dx = \\int_0^{1} \\frac{\\cos(2\\pi y)}{\\sqrt{1 - y^2}} dy = \\int_0^{1} \\frac{\\cos(2\\pi y)}{(1 - y)^{1/2}(1 + y)^{1/2}} dy = \\int_0^{1} \\cos(2\\pi y) (1 - y)^{-1/2}(1 + y)^{-1/2} dy$$\n",
    "\n",
    "$$\n",
    "\\int_0^{1} \\cos(2\\pi y) (1 - y)^{-1/2}(1 + y)^{-1/2} dy = \\frac{1}{2} \\int_{-1}^{1} \\cos(2\\pi y) (1 - y)^{-1/2}(1 + y)^{-1/2} dy\n",
    "$$\n",
    "\n",
    "То есть мы имеем интеграл $\\cos(2\\pi y)$ по $(-1, 1)$ с весом $(1 - y)^{-1/2}(1 + y)^{-1/2}$ и коэффициентом 1/2. Для приближенного вычисления нам подходят полиномы Якоби.\n",
    "\n",
    "Будем перебирать все степени подряд, пока разность между предыдущим результатом и текущим не станет $10^{-16}$\n"
   ]
  },
  {
   "cell_type": "code",
   "execution_count": 6,
   "metadata": {},
   "outputs": [
    {
     "name": "stdout",
     "output_type": "stream",
     "text": [
      "0.34601015881226427 18\n",
      "Cтепень полинома, при которой точность становится 1e-16 - 18\n"
     ]
    }
   ],
   "source": [
    "import numpy as np\n",
    "\n",
    "I1 = 0\n",
    "\n",
    "for i in range(1, 30):\n",
    "    x, y = scp.roots_jacobi(i, -0.5, -0.5)\n",
    "    I2 = 0\n",
    "    \n",
    "    for j in range(i):\n",
    "        I2 += 0.5 * np.cos(2 * np.pi * x[j]) * y[j]\n",
    "    \n",
    "    if abs(I1 - I2) < 1e-16:\n",
    "        break\n",
    "        \n",
    "    I1 = I2\n",
    "    n = i\n",
    "\n",
    "print(I2, n)\n",
    "print(\"Cтепень полинома, при которой точность становится 1e-16 - 18\")"
   ]
  },
  {
   "cell_type": "markdown",
   "metadata": {},
   "source": [
    "## Part 2. Fredholm equation\n",
    "\n",
    "There are two types of Fredholm equations. \n",
    "\n",
    "1. Fredholm equation of the first kind:\n",
    "$$\n",
    "\\int_a^b \\! K(x, t)\\, \\color{blue}{f(t)} \\,dt = g(x)\n",
    "$$\n",
    "\n",
    "2. Fredholm equation of the second kind:\n",
    "$$\n",
    "\\lambda \\int_a^b\\! K(x, t)\\, \\color{blue}{f(t)} \\, dt + g(x) = \\color{blue}{f(x)}\n",
    "$$\n",
    "\n",
    "Here higtlighted function $f(x)$ is unknown, kernel function $K(x, t)$ and given function $g(x)$, $\\lambda$ is a real number. Numerically, Fredholm equations of the first kind are very ill-conditioned. We will consider equations of the second kind only."
   ]
  },
  {
   "cell_type": "markdown",
   "metadata": {},
   "source": [
    "The basic idea is to approximate the integral by some quadrature formula\n",
    "\n",
    "$$\n",
    "\\int_a^b \\! \\xi(t)\\, dt \\approx \\sum_j^N w_j\\, \\xi(t_j)\n",
    "$$\n",
    "\n",
    "with appropriate weights $w_j$ and nodes $t_j$ and $j=1, \\dots, N$. The accuracy of the approximation is controlled by $N$."
   ]
  },
  {
   "cell_type": "markdown",
   "metadata": {},
   "source": [
    "This way, the FE is approximated by \n",
    "\n",
    "$$\n",
    "\\lambda \\sum_j w_j\\, K(x, t_j)\\, \\color{blue}{f(t_j)} + g(x) = \\color{blue}{f(x)}\n",
    "$$\n",
    "\n",
    "Note that here $x$ is a continuous variable, and we only discretized $t$.\n"
   ]
  },
  {
   "cell_type": "markdown",
   "metadata": {},
   "source": [
    "Evaluating this equation on the grid $x = t_k$, we obtain\n",
    "\n",
    "$$\n",
    "\\lambda \\sum_j w_j \\, K_{k, j}\\, \\color{blue}{f_j} + g_k = \\color{blue}{f_k}\n",
    "$$\n",
    "\n",
    "where $f_j \\equiv f(t_j)$, $g_j \\equiv g(t_j)$ and $K_{k, j} \\equiv K(t_k, t_j)$. This is nothing but a system of linear algebraic equations for the vector of $\\color{blue}{f_j}$.\n",
    "\n",
    "Its solution gives the values of the unknown function $f(x)$ at the discrete values $x=t_j$ for $j=1, \\dots, N$."
   ]
  },
  {
   "cell_type": "markdown",
   "metadata": {},
   "source": [
    "### Task 2.1\n",
    "(20% of the grade)\n",
    "\n",
    "Solve an example Fredholm equation of the second kind\n",
    "\n",
    "$$\n",
    "f(x) = \\sin(\\pi x)  + \\frac{1}{2} \\int_0^1\\! f(t) \\, dt\n",
    "$$\n",
    "\n",
    "Here $a, b = 0, 1$, $\\lambda = \\dfrac{1}{2}$, the kernel is $K(x, t) = 1$ and the right-hand side $g(x) = \\sin(\\pi x)$.\n",
    "\n",
    "In fact, the exact solution is (В. А. Попов, Сборник задач по интегральным уравнениям, 2006, стр. 5)\n",
    "\n",
    "$$\n",
    "f(x) = \\sin(\\pi x) + \\frac{2}{\\pi}\n",
    "$$"
   ]
  },
  {
   "cell_type": "markdown",
   "metadata": {},
   "source": [
    "For the integral, we can use a Gaussian quadrature with the weight function $w(x) = 1$ on $(0, 1)$. Looking at http://dlmf.nist.gov/18.3, and find the corresponding function in *scipy.special* (pay attention to the integration interval).\n",
    "\n",
    "Compare the obtained function values with the true solution for different values of $N$. What value of $N$ can you stop at?"
   ]
  },
  {
   "cell_type": "code",
   "execution_count": 36,
   "metadata": {},
   "outputs": [
    {
     "data": {
      "text/plain": [
       "<matplotlib.legend.Legend at 0x24ff5be0400>"
      ]
     },
     "execution_count": 36,
     "metadata": {},
     "output_type": "execute_result"
    },
    {
     "data": {
      "image/png": "[encoded data removed]",
      "text/plain": [
       "<Figure size 720x576 with 1 Axes>"
      ]
     },
     "metadata": {
      "needs_background": "light"
     },
     "output_type": "display_data"
    }
   ],
   "source": [
    "import matplotlib.pyplot as plt\n",
    "\n",
    "n = 25\n",
    "\n",
    "x, y = scp.roots_sh_legendre(n)\n",
    "M = np.eye(n)\n",
    "v = [np.sin(np.pi * i) for i in x]\n",
    "\n",
    "for i in range(n):\n",
    "    for j in range(n):\n",
    "        M[i][j] = y[j]\n",
    "        \n",
    "A = np.eye(n) - 0.5 * M\n",
    "\n",
    "f = np.linalg.solve(A, v)\n",
    "\n",
    "\n",
    "x1 = np.linspace(0, 1, 100)\n",
    "f1 = [np.sin(np.pi * i) + 2 / np.pi for i in x1]\n",
    "\n",
    "fig, ax = plt.subplots(figsize = (10, 8))\n",
    "ax.plot(x, f, 'bo', label = 'N = 25')\n",
    "ax.plot(x1, f1, label = 'exact solution')\n",
    "ax.legend(loc = 'upper right')"
   ]
  },
  {
   "cell_type": "markdown",
   "metadata": {},
   "source": [
    "Не совсем поняла вопрос, но мне кажется, что, например, при 25 узлах вполне прослеживается поведение истинного решения."
   ]
  },
  {
   "cell_type": "markdown",
   "metadata": {},
   "source": [
    "### Task 2.2\n",
    "(20% of the grade)\n",
    "\n",
    "An obvious issue with the privious result for $f(x)$ that it returns the solution on a fixed set of points. We do not control precise positions of these points.\n",
    "\n",
    "1. First, let's try to interpolate the values obtained in the previous task to a uniform grid of length 50. You may use any interpolation method. Compare the interpolation values with exact solution values."
   ]
  },
  {
   "cell_type": "code",
   "execution_count": 37,
   "metadata": {},
   "outputs": [
    {
     "data": {
      "text/plain": [
       "<matplotlib.legend.Legend at 0x24ff5d6c518>"
      ]
     },
     "execution_count": 37,
     "metadata": {},
     "output_type": "execute_result"
    },
    {
     "data": {
      "image/png": "[encoded data removed]",
      "text/plain": [
       "<Figure size 720x576 with 1 Axes>"
      ]
     },
     "metadata": {
      "needs_background": "light"
     },
     "output_type": "display_data"
    }
   ],
   "source": [
    "#функция взята из пятого дз\n",
    "def Lagrange (x, y, z):\n",
    "    n = len(x)\n",
    "    \n",
    "    #заготовочка под базисные полиномы\n",
    "    l = np.ones(n)\n",
    "    #заготовочка под ответ\n",
    "    s = 0\n",
    "    \n",
    "    for i in range(n):\n",
    "        \n",
    "        for j in range(n):\n",
    "            if i == j:\n",
    "                continue    \n",
    "            l[i] *= (z - x[j]) / (x[i] - x[j])\n",
    "            \n",
    "        s += l[i]*y[i]\n",
    "    \n",
    "    return s\n",
    "\n",
    "#Значения функции на равномерной сетке длиной 50\n",
    "x2 = np.linspace(0, 1, 50)\n",
    "f2 = [Lagrange(x, f, i) for i in x2]\n",
    "\n",
    "fig1, ax1 = plt.subplots(figsize = (10, 8))\n",
    "ax1.plot(x2, f2, 'bo', label = 'interpolation')\n",
    "ax1.plot(x1, f1, label = 'exact solution')\n",
    "ax1.legend(loc = 'upper right')"
   ]
  },
  {
   "cell_type": "markdown",
   "metadata": {},
   "source": [
    "2. Now use the following formula to calculate the function at points of the same uniform grid.\n",
    "$$\n",
    "f(x) = g(x) + \\lambda \\sum_j^N w_j\\, K(x, t_j)\\, f(t_j)\n",
    "$$\n",
    "Again, compare the interpolation values with the exact solution values, and also with the direct interpolation method."
   ]
  },
  {
   "cell_type": "code",
   "execution_count": 38,
   "metadata": {},
   "outputs": [
    {
     "data": {
      "text/plain": [
       "<matplotlib.legend.Legend at 0x24ff60ebef0>"
      ]
     },
     "execution_count": 38,
     "metadata": {},
     "output_type": "execute_result"
    },
    {
     "data": {
      "image/png": "[encoded data removed]",
      "text/plain": [
       "<Figure size 1080x720 with 1 Axes>"
      ]
     },
     "metadata": {
      "needs_background": "light"
     },
     "output_type": "display_data"
    }
   ],
   "source": [
    "#так как K в нашем случае не зависит от x, можно заранее сосчитать добавку к g(x), которая окажется константой\n",
    "const = 0.5 * y @ f\n",
    "\n",
    "f3 = [np.sin(np.pi * i) + const for i in x2]\n",
    "\n",
    "fig2, ax2 = plt.subplots(figsize = (15, 10))\n",
    "ax2.plot(x2, f2, 'bo', label = 'interpolation')\n",
    "ax2.plot(x2, f3, 'ro', label = 'formula')\n",
    "ax2.plot(x1, f1, label = 'exact solution')\n",
    "ax2.legend(loc = 'upper right')"
   ]
  },
  {
   "cell_type": "markdown",
   "metadata": {},
   "source": [
    "При выбранном количестве узлов, похоже, работают оба метода\n"
   ]
  },
  {
   "cell_type": "code",
   "execution_count": null,
   "metadata": {},
   "outputs": [],
   "source": []
  }
 ],
 "metadata": {
  "kernelspec": {
   "display_name": "Python 3",
   "language": "python",
   "name": "python3"
  },
  "language_info": {
   "codemirror_mode": {
    "name": "ipython",
    "version": 3
   },
   "file_extension": ".py",
   "mimetype": "text/x-python",
   "name": "python",
   "nbconvert_exporter": "python",
   "pygments_lexer": "ipython3",
   "version": "3.7.3"
  }
 },
 "nbformat": 4,
 "nbformat_minor": 4
}
